{
 "cells": [
  {
   "cell_type": "code",
   "execution_count": 1,
   "metadata": {},
   "outputs": [
    {
     "name": "stderr",
     "output_type": "stream",
     "text": [
      "\u001b[32m\u001b[1m   Updating\u001b[22m\u001b[39m registry at `C:\\Users\\saman\\.julia\\registries\\General`\n"
     ]
    },
    {
     "name": "stdout",
     "output_type": "stream",
     "text": [
      "\u001b[?25l"
     ]
    },
    {
     "name": "stderr",
     "output_type": "stream",
     "text": [
      "\u001b[32m\u001b[1m   Updating\u001b[22m\u001b[39m git-repo `https://github.com/JuliaRegistries/General.git`\n"
     ]
    },
    {
     "name": "stdout",
     "output_type": "stream",
     "text": [
      "\u001b[2K\u001b[?25h"
     ]
    },
    {
     "name": "stderr",
     "output_type": "stream",
     "text": [
      "\u001b[32m\u001b[1m  Resolving\u001b[22m\u001b[39m package versions...\n",
      "\u001b[32m\u001b[1m   Updating\u001b[22m\u001b[39m `C:\\Users\\saman\\.julia\\environments\\v1.4\\Project.toml`\n",
      "\u001b[90m [no changes]\u001b[39m\n",
      "\u001b[32m\u001b[1m   Updating\u001b[22m\u001b[39m `C:\\Users\\saman\\.julia\\environments\\v1.4\\Manifest.toml`\n",
      "\u001b[90m [no changes]\u001b[39m\n",
      "\u001b[32m\u001b[1m  Resolving\u001b[22m\u001b[39m package versions...\n",
      "\u001b[32m\u001b[1m   Updating\u001b[22m\u001b[39m `C:\\Users\\saman\\.julia\\environments\\v1.4\\Project.toml`\n",
      "\u001b[90m [no changes]\u001b[39m\n",
      "\u001b[32m\u001b[1m   Updating\u001b[22m\u001b[39m `C:\\Users\\saman\\.julia\\environments\\v1.4\\Manifest.toml`\n",
      "\u001b[90m [no changes]\u001b[39m\n",
      "\u001b[32m\u001b[1m  Resolving\u001b[22m\u001b[39m package versions...\n",
      "\u001b[32m\u001b[1m   Updating\u001b[22m\u001b[39m `C:\\Users\\saman\\.julia\\environments\\v1.4\\Project.toml`\n",
      "\u001b[90m [no changes]\u001b[39m\n",
      "\u001b[32m\u001b[1m   Updating\u001b[22m\u001b[39m `C:\\Users\\saman\\.julia\\environments\\v1.4\\Manifest.toml`\n",
      "\u001b[90m [no changes]\u001b[39m\n"
     ]
    }
   ],
   "source": [
    "using Pkg\n",
    "Pkg.add(\"Distributions\")\n",
    "Pkg.add(\"FFTW\")\n",
    "Pkg.add(\"Plots\")\n",
    "\n",
    "using Distributions\n",
    "using FFTW\n",
    "using Plots"
   ]
  },
  {
   "cell_type": "code",
   "execution_count": 2,
   "metadata": {},
   "outputs": [
    {
     "data": {
      "text/plain": [
       "heat (generic function with 2 methods)"
      ]
     },
     "execution_count": 2,
     "metadata": {},
     "output_type": "execute_result"
    }
   ],
   "source": [
    "num_photons = 100\n",
    "num_pixels  = 256\n",
    "\n",
    "function heat(A::Array{Int64,2}, title::String, label=\"Photons\")\n",
    "    Plots.heatmap(A, title=title, ylabel=label)\n",
    "end"
   ]
  },
  {
   "cell_type": "code",
   "execution_count": 3,
   "metadata": {
    "scrolled": true
   },
   "outputs": [
    {
     "data": {
      "text/plain": [
       "0.010000000000000014"
      ]
     },
     "execution_count": 3,
     "metadata": {},
     "output_type": "execute_result"
    }
   ],
   "source": [
    "# Ground truth: a circular phase-only object\n",
    "numPixels = 512\n",
    "gtRadius  = 50.0 # ground truth radius, pixels\n",
    "gtPhase   = 0.75 # radians\n",
    "gtCenter  = numPixels / 2 # assumes numPixels is even\n",
    "\n",
    "W = [convert(Float64, y) for x=0:numPixels-1, y=0:numPixels-1]\n",
    "H = [convert(Float64, x) for x=0:numPixels-1, y=0:numPixels-1]\n",
    "\n",
    "# masking\n",
    "gt = ones(ComplexF64, numPixels, numPixels)\n",
    "for x=1:numPixels, y=1:numPixels\n",
    "    dist = sqrt((W[x, y] - gtCenter)^2 + (H[x, y] - gtCenter)^2)\n",
    "    if dist <= gtRadius\n",
    "        gt[x, y] = exp(1.0im * gtPhase)\n",
    "    end\n",
    "end\n",
    "\n",
    "# Physical dimensions and sampling\n",
    "pixelSize = 0.1 # microns\n",
    "\n",
    "x = LinRange(-pixelSize * numPixels / 2, pixelSize * numPixels / 2, numPixels)\n",
    "dx = x[2] - x[1]              # Sampling period, microns\n",
    "fS = 1 / dx                      # Spatial sampling frequency, inverse microns\n",
    "df = fS / numPixels              # Spacing between discrete frequency coordinates, inverse microns\n",
    "fx = collect(-fS/2 + df:df:fS/2) # Spatial frequency, inverse microns\n",
    "\n",
    "# Fourier transform of ground truth\n",
    "GT = ifftshift(fft(fftshift(gt))) * dx^2\n",
    "\n",
    "# TODO: Wird nur in animate verwendet, wird das gebraucht?\n",
    "# Angular spectrum propagator and spatial frequencies\n",
    "function H_FN(fx::Array{Float64,2}, fy::Array{Float64,2}, z::Float64, wavelength::Float64=0.5)\n",
    "    term = 1 .- (wavelength^2 .* fx.^2) - (wavelength^2 .* fy.^2)\n",
    "    result = [if (m_ij < 0) 0 + 0im else exp(1im * 2 * pi * z / wavelength * sqrt(m_ij)) end for  m_ij in term]\n",
    "    return result\n",
    "end\n",
    "\n",
    "# All rows have the fx vector\n",
    "# a b\n",
    "# a b\n",
    "FX = [x for y=1:length(fx),x in fx]\n",
    "\n",
    "# All columns have the fx vector\n",
    "# a a \n",
    "# b b\n",
    "FY = [x for x in fx, y=1:length(fx)]\n",
    "\n",
    "# Field at a distance of z=0\n",
    "gt_prime = fftshift(ifft(ifftshift(GT))) / dx^2\n",
    "\n",
    "# Normalizing constant: makes the maximum photon count at z = 0 equal to 100 photons\n",
    "maxVal, _ = findmax([abs(x)^2 for x in gt_prime])\n",
    "norm = maxVal / 100"
   ]
  },
  {
   "cell_type": "code",
   "execution_count": 4,
   "metadata": {},
   "outputs": [
    {
     "data": {
      "text/plain": [
       "add_camera_noise (generic function with 6 methods)"
      ]
     },
     "execution_count": 4,
     "metadata": {},
     "output_type": "execute_result"
    }
   ],
   "source": [
    "function add_camera_noise(input_irrad_photons, qe=0.69, sensitivity=5.88, dark_noise=2.29, bitdepth=12, baseline=100)\n",
    "    # Add shot noise\n",
    "    width, height = size(input_irrad_photons)\n",
    "    photons = [rand(Poisson(m_ij)) for m_ij in input_irrad_photons]\n",
    "    \n",
    "    # Convert to electrons\n",
    "    electrons = qe * photons\n",
    "    \n",
    "    # Add dark noise\n",
    "    electrons_out = [rand(Normal(dark_noise)) for x=1:width,y=1:height] + electrons\n",
    "    \n",
    "    # Convert to ADU and add baseline\n",
    "    max_adu = 2^bitdepth - 1\n",
    "    adu =  round.(Int, electrons_out .* sensitivity)\n",
    "    adu .+= baseline\n",
    "    clamp!(adu, 0, max_adu)\n",
    "    \n",
    "    return adu\n",
    "end"
   ]
  },
  {
   "cell_type": "code",
   "execution_count": null,
   "metadata": {
    "scrolled": true
   },
   "outputs": [
    {
     "name": "stdout",
     "output_type": "stream",
     "text": [
      "z=5.0%\r"
     ]
    }
   ],
   "source": [
    "numPoints = 100\n",
    "z = range(0, length=100, stop=numPoints)\n",
    "vmin, vmax = 0, 1500\n",
    "\n",
    "function render_frame(frame::Integer)\n",
    "    gt_prime = fftshift(ifft(ifftshift(GT .* H_FN(FX, FY, z[frame], 0.525)))) / dx^2\n",
    "    \n",
    "    # Divide by norm to convert to a photons\n",
    "    hologram = [abs(m_ij)^2 / norm for m_ij in gt_prime]\n",
    "    \n",
    "    adu = add_camera_noise(hologram)\n",
    "\n",
    "    print(\"z=$(round(frame/numPoints*100))%\\r\")\n",
    "    return adu\n",
    "end\n",
    "\n",
    "anim = @animate for i=1:numPoints\n",
    "    heat(render_frame(i), \"dark_noise=default\", \"ADU\")\n",
    "end\n",
    "gif(anim, \"animation.gif\", fps = 10)"
   ]
  },
  {
   "cell_type": "code",
   "execution_count": null,
   "metadata": {},
   "outputs": [],
   "source": [
    "numPoints = 100\n",
    "z = range(0, length=100, stop=numPoints)\n",
    "vmin, vmax = 0, 1500\n",
    "\n",
    "function render_frame(frame::Integer)\n",
    "    gt_prime = fftshift(ifft(ifftshift(GT .* H_FN(FX, FY, z[frame], 0.525)))) / dx^2\n",
    "    \n",
    "    # Divide by norm to convert to a photons\n",
    "    hologram = [abs(m_ij)^2 / norm for m_ij in gt_prime]\n",
    "    \n",
    "    adu = add_camera_noise(hologram, 0.69, 5.88, 20.0, 12, 100)\n",
    "\n",
    "    print(\"z=$(round(frame/numPoints*100))%\\r\")\n",
    "    return adu\n",
    "end\n",
    "\n",
    "anim = @animate for i=1:numPoints\n",
    "    heat(render_frame(i), \"dark_noise=20.0\", \"ADU\")\n",
    "end\n",
    "gif(anim, \"animation2.gif\", fps = 10)"
   ]
  }
 ],
 "metadata": {
  "kernelspec": {
   "display_name": "Julia 1.4.1",
   "language": "julia",
   "name": "julia-1.4"
  },
  "language_info": {
   "file_extension": ".jl",
   "mimetype": "application/julia",
   "name": "julia",
   "version": "1.4.1"
  }
 },
 "nbformat": 4,
 "nbformat_minor": 4
}
