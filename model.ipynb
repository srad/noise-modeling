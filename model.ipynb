{
 "cells": [
  {
   "cell_type": "markdown",
   "metadata": {},
   "source": [
    "# Camera Noise Model\n",
    "\n",
    "## The EMVA 1288 Standard\n",
    "\n",
    "### Introduction\n",
    "\n",
    "EMVA launched the initiative to define a unified method to measure, compute and present specification parameters for cameras and image sensors used for machine vision applications.\n",
    "\n",
    "Choosing the suitable camera for a given machine vision application often proves to be a challenging task. The data sheets provided by the manufacturers are difficult to compare. Frequently, vital pieces of information are not available and the user is forced to conduct a costly comparative test which still may fail to deliver all relevant camera parameters. This is where the EMVA 1288 Standard comes in. It creates transparency by defining reliable and exact measurement procedures as well as data presentation guidelines and makes the comparison of cameras and image sensors much easier.\n",
    "\n",
    "The Standard is elaborated by a consortium of the industry leading sensor and camera manufacturers, distributers and component customers. The Standard is organized in a modular approach. The first module was officially released by the working group member companies in August 2005.\n",
    "\n",
    "[![The EMVA 1288 Standard](http://i3.ytimg.com/vi/7lQQd9BF0nY/maxresdefault.jpg)](https://youtu.be/7lQQd9BF0nY)\n",
    "\n",
    "https://www.emva.org/standards-technology/emva-1288/\n",
    "\n",
    "### Documents\n",
    "\n",
    "[EMVA Standard 1288 Standard for Characterization of Image Sensors and Cameras 3.1](https://www.emva.org/wp-content/uploads/EMVA1288-3.1a.pdf)"
   ]
  },
  {
   "cell_type": "markdown",
   "metadata": {},
   "source": [
    "## A Mathematical Model for Camera Noise\n",
    "\n",
    "### Mathematical model of a single pixel\n",
    "\n",
    "<img src=\"img/emva-model.jpg\" width=600 />\n",
    "\n",
    "Figures\n",
    "separated by comma represent the mean and variance of a quantity; unknown model parameters are\n",
    "marked in red.\n",
    "\n",
    "#### Sensitivity, Linearity, and Noise\n",
    "\n",
    "1. During the exposure time on average $\\mu_{p}$ photons hit the whole area $A$ of a single pixel.\n",
    "1. A fraction of them, the total **quantum efficiency**, is absorbed and accumulates $\\mu_{e}$ charge units: $ \\eta(\\lambda) = \\frac{\\mu_{e}}{\\mu_{p}} $\\\n",
    "depends on the wavelength of the photons irradiating the pixel.\\\n",
    "The total quantum efficiency as defined here refers to the total area occupied by a single sensor element (pixel)\\\n",
    "not only the light sensitive area.\n",
    "1. The mean number of photons that hit a pixel with the area $A$ during the exposure time $t_{exp}$ can be computed from the irradiance $E$ on the sensor surface in $\\frac{W}{m^2}$ by: $\\mu_{p}=\\frac{AEt_{exp}}{h\\nu}=\\frac{AEt_{exp}}{hc/\\lambda}$\n",
    "\n",
    "| Variable with [units]                      | Meaning                                                              |\n",
    "|:-------------------------------------------|:---------------------------------------------------------------------|\n",
    "| $\\mu_{p}[photons]$                         | number photons hit the whole area $A$ of a single pixel              |\n",
    "| $\\mu_{e}[photons]$                         | accumulated charge units                                             |\n",
    "| $A[m^2]$                                   | whole area $A$ of a single pixel                                     |\n",
    "| $\\eta(\\lambda) = \\frac{\\mu_{e}}{\\mu_{p}}$  | quantum efficiency                                                   |\n",
    "| $E\\left[\\frac{W}{m^2}\\right]$              | irradiance                                                           |\n",
    "| $t_{exp}[s]$                               | exposure time                                                        |"
   ]
  }
 ],
 "metadata": {
  "kernelspec": {
   "display_name": "Julia 1.4.1",
   "language": "julia",
   "name": "julia-1.4"
  },
  "language_info": {
   "file_extension": ".jl",
   "mimetype": "application/julia",
   "name": "julia",
   "version": "1.4.1"
  }
 },
 "nbformat": 4,
 "nbformat_minor": 4
}
